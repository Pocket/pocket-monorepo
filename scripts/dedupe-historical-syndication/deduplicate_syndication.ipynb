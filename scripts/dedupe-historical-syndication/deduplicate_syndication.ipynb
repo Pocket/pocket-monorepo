{
 "cells": [
  {
   "cell_type": "code",
   "execution_count": 378,
   "id": "cda1429f-b884-4931-8e03-78c0f8a19d99",
   "metadata": {},
   "outputs": [],
   "source": [
    "## CONFIGURE THIS ##\n",
    "AWS_ACCESS_KEY_ID=\"\"\n",
    "AWS_SECRET_ACCESS_KEY=\"\"\n",
    "AWS_SESSION_TOKEN=\"\"\n",
    "app_name='Corpus Search Services'\n",
    "# corpus search services consumer key\n",
    "consumer_key=''\n",
    "pocket_graph_endpoint='https://getpocket.com/graphql'\n",
    "corpus_search_endpoint=\"\"\n",
    "\n",
    "# select url, externalId, language, source from ApprovedItem where isSyndicated is true;\n",
    "syndication_json_dump=''#filepath"
   ]
  },
  {
   "cell_type": "code",
   "execution_count": 254,
   "id": "edf60d56-afc8-4548-9b61-6935e464adce",
   "metadata": {},
   "outputs": [],
   "source": [
    "import pandas as pd\n",
    "import numpy as np\n",
    "import json\n",
    "from datetime import datetime as dt\n",
    "import itertools\n",
    "import requests\n",
    "from tqdm import tqdm\n",
    "import time\n",
    "import random"
   ]
  },
  {
   "cell_type": "code",
   "execution_count": 302,
   "id": "7fba8554-2475-4abb-bdfc-c6aec2b1dc5c",
   "metadata": {},
   "outputs": [],
   "source": [
    "# select url, externalId, language, source from ApprovedItem where isSyndicated is true;\n",
    "\n",
    "synd = pd.read_json(syndication_json_dump)\\\n",
    "    .set_index('externalId')\\\n",
    "    .replace('\\xa0', ' ', regex=True)\n",
    "\n",
    "# all entries are getpocket.com domains\n",
    "assert len(synd[synd['url'].str.contains(\"getpocket.com\")]) == len(synd)"
   ]
  },
  {
   "cell_type": "code",
   "execution_count": 303,
   "id": "dd5ecb8d-7ac2-4726-8285-34e5a829231c",
   "metadata": {},
   "outputs": [],
   "source": [
    "# fetch the original\n",
    "url = synd['url'].iloc[0]\n",
    "def get_original_id(url):\n",
    "    body =  {'query': \"\"\"\n",
    "          query SyndicatedCorpusItemId($url: String!)\n",
    "            {\n",
    "              itemByUrl(url: $url) {\n",
    "                syndicatedArticle {\n",
    "                  publisherUrl\n",
    "                  originalItem {\n",
    "                    givenUrl\n",
    "                    corpusItem {\n",
    "                      id\n",
    "                    }\n",
    "                  }\n",
    "                }\n",
    "              }\n",
    "            }\"\"\",\n",
    "        'operationName': 'SyndicatedCorpusItemId',\n",
    "        'variables': { 'url': url }}\n",
    "    r = requests.post(\n",
    "        f'{pocket_graph_endpoint}?consumer_key={consumer_key}', \n",
    "        data=json.dumps(body),\n",
    "        headers={ 'apollographql-client-name': app_name, 'Content-Type': 'application/json' })\n",
    "    return r\n",
    "\n",
    "\n",
    "def get_info(urls, results, errors, request_delay=0.1):\n",
    "    for i in tqdm(range(len(urls))):\n",
    "        r = get_original_id(urls[i])\n",
    "        if r.status_code != requests.codes.ok:\n",
    "            errors.append(urls[i])\n",
    "        else:\n",
    "            results.append({'url': urls[i], 'result': r.json()})\n",
    "        time.sleep(request_delay + random.random() / 10.)\n",
    "    return (results, errors)\n"
   ]
  },
  {
   "cell_type": "code",
   "execution_count": 304,
   "id": "82cf3cd9-795e-41b9-9d8e-2d3218ea6bfa",
   "metadata": {},
   "outputs": [
    {
     "name": "stderr",
     "output_type": "stream",
     "text": [
      "100%|█████████████████████████████████████| 9424/9424 [1:57:47<00:00,  1.33it/s]\n"
     ]
    }
   ],
   "source": [
    "urls = list(synd['url'])\n",
    "results = []\n",
    "errors = []\n",
    "res = get_info(urls, results, errors)"
   ]
  },
  {
   "cell_type": "code",
   "execution_count": 315,
   "id": "07d8fd1e-0da7-42a4-90f5-1ffd9b814db1",
   "metadata": {},
   "outputs": [],
   "source": [
    "with open('./results-v4.json', 'w') as f:\n",
    "    json.dump(res[0], f)"
   ]
  },
  {
   "cell_type": "code",
   "execution_count": 316,
   "id": "19a5c5fe-28e7-4f05-9498-88dd95f95f58",
   "metadata": {},
   "outputs": [],
   "source": [
    "def transform_to_row(r):\n",
    "    d = {'syndicatedUrl': r['url']}\n",
    "    d['publisherUrl'] = ((r['result']['data']['itemByUrl'] or {}).get('syndicatedArticle', {}) or {}).get('publisherUrl')\n",
    "    d['corpusId'] = ((((r['result']['data']['itemByUrl'] or {}).get('syndicatedArticle', {}) or {}).get('originalItem', {}) or {}).get('corpusItem', {}) or {}).get('id')\n",
    "    return d"
   ]
  },
  {
   "cell_type": "code",
   "execution_count": 317,
   "id": "8a69fd14-17ec-46e4-b86f-cdfa7b5a334b",
   "metadata": {},
   "outputs": [],
   "source": [
    "df = pd.DataFrame(list(map(lambda x: transform_to_row(x), res[0])))"
   ]
  },
  {
   "cell_type": "code",
   "execution_count": 385,
   "id": "325e0702-0b42-4880-8338-f047bfaaac22",
   "metadata": {},
   "outputs": [
    {
     "name": "stdout",
     "output_type": "stream",
     "text": [
      "# duplicated: 1849 out of 9446 (19.5744230362058%)\n"
     ]
    }
   ],
   "source": [
    "unresolved = len(df[df['corpusId'].isna()])\n",
    "total = len(df)\n",
    "\n",
    "print(f'# duplicated: {total - unresolved} out of {total} ({(total - unresolved) / total * 100}%)')"
   ]
  },
  {
   "cell_type": "code",
   "execution_count": 329,
   "id": "db5c1af5-284d-443d-bddb-1ce93718357b",
   "metadata": {},
   "outputs": [],
   "source": [
    "synd.rename(columns={'url': 'syndicatedUrl'}, inplace=True)"
   ]
  },
  {
   "cell_type": "code",
   "execution_count": 346,
   "id": "d15477e6-fdbf-4114-8aff-807d8ebbd0cb",
   "metadata": {},
   "outputs": [],
   "source": [
    "dedupes = df[~df['corpusId'].isna()].rename(columns={'corpusId': 'originalCorpusId'}).merge(synd.rename_axis('syndicatedCorpusId').reset_index(), on=['syndicatedUrl'], how='inner')"
   ]
  },
  {
   "cell_type": "code",
   "execution_count": 347,
   "id": "707c4860-3c2b-41b4-be17-b9c6b0c5cf6d",
   "metadata": {},
   "outputs": [
    {
     "name": "stdout",
     "output_type": "stream",
     "text": [
      "['EN']\n"
     ]
    },
    {
     "data": {
      "text/html": [
       "<div>\n",
       "<style scoped>\n",
       "    .dataframe tbody tr th:only-of-type {\n",
       "        vertical-align: middle;\n",
       "    }\n",
       "\n",
       "    .dataframe tbody tr th {\n",
       "        vertical-align: top;\n",
       "    }\n",
       "\n",
       "    .dataframe thead th {\n",
       "        text-align: right;\n",
       "    }\n",
       "</style>\n",
       "<table border=\"1\" class=\"dataframe\">\n",
       "  <thead>\n",
       "    <tr style=\"text-align: right;\">\n",
       "      <th></th>\n",
       "      <th>syndicatedUrl</th>\n",
       "      <th>publisherUrl</th>\n",
       "      <th>originalCorpusId</th>\n",
       "      <th>syndicatedCorpusId</th>\n",
       "      <th>language</th>\n",
       "      <th>source</th>\n",
       "    </tr>\n",
       "  </thead>\n",
       "  <tbody>\n",
       "    <tr>\n",
       "      <th>0</th>\n",
       "      <td>https://getpocket.com/explore/item/the-science...</td>\n",
       "      <td>https://www.brainpickings.org/2015/07/20/esthe...</td>\n",
       "      <td>28c90471-bda3-45fc-a310-297d32346c56</td>\n",
       "      <td>8118dc5e-ac0b-4eb8-911a-9661384d8c84</td>\n",
       "      <td>EN</td>\n",
       "      <td>BACKFILL</td>\n",
       "    </tr>\n",
       "    <tr>\n",
       "      <th>1</th>\n",
       "      <td>https://getpocket.com/explore/item/3-ways-to-b...</td>\n",
       "      <td>https://hbr.org/2016/11/3-ways-to-better-under...</td>\n",
       "      <td>ebc46868-c1e5-4e05-8e7d-e95ac4f50ef0</td>\n",
       "      <td>8b99dcc6-0a65-4303-8dac-2348da34f068</td>\n",
       "      <td>EN</td>\n",
       "      <td>BACKFILL</td>\n",
       "    </tr>\n",
       "    <tr>\n",
       "      <th>2</th>\n",
       "      <td>https://getpocket.com/explore/item/what-great-...</td>\n",
       "      <td>https://hbr.org/2016/07/what-great-listeners-a...</td>\n",
       "      <td>daf109f3-909c-4200-87d5-ba859a1de46a</td>\n",
       "      <td>0cc330bd-ef67-4fcf-8120-2e87283439db</td>\n",
       "      <td>EN</td>\n",
       "      <td>BACKFILL</td>\n",
       "    </tr>\n",
       "    <tr>\n",
       "      <th>3</th>\n",
       "      <td>https://getpocket.com/explore/item/how-to-beat...</td>\n",
       "      <td>https://hbr.org/2016/07/how-to-beat-procrastin...</td>\n",
       "      <td>e7b4f3e6-fbba-4786-8357-1f26058848c2</td>\n",
       "      <td>410cb299-2861-4b3b-8bb7-5ee985daac07</td>\n",
       "      <td>EN</td>\n",
       "      <td>BACKFILL</td>\n",
       "    </tr>\n",
       "    <tr>\n",
       "      <th>4</th>\n",
       "      <td>https://getpocket.com/explore/item/how-i-rewir...</td>\n",
       "      <td>http://nautil.us/issue/40/learning/how-i-rewir...</td>\n",
       "      <td>d71ff0bc-cc87-4d58-ad64-75848f6eb8db</td>\n",
       "      <td>b0595294-305f-4460-91e8-3d3058e4c195</td>\n",
       "      <td>EN</td>\n",
       "      <td>BACKFILL</td>\n",
       "    </tr>\n",
       "  </tbody>\n",
       "</table>\n",
       "</div>"
      ],
      "text/plain": [
       "                                       syndicatedUrl  \\\n",
       "0  https://getpocket.com/explore/item/the-science...   \n",
       "1  https://getpocket.com/explore/item/3-ways-to-b...   \n",
       "2  https://getpocket.com/explore/item/what-great-...   \n",
       "3  https://getpocket.com/explore/item/how-to-beat...   \n",
       "4  https://getpocket.com/explore/item/how-i-rewir...   \n",
       "\n",
       "                                        publisherUrl  \\\n",
       "0  https://www.brainpickings.org/2015/07/20/esthe...   \n",
       "1  https://hbr.org/2016/11/3-ways-to-better-under...   \n",
       "2  https://hbr.org/2016/07/what-great-listeners-a...   \n",
       "3  https://hbr.org/2016/07/how-to-beat-procrastin...   \n",
       "4  http://nautil.us/issue/40/learning/how-i-rewir...   \n",
       "\n",
       "                       originalCorpusId                    syndicatedCorpusId  \\\n",
       "0  28c90471-bda3-45fc-a310-297d32346c56  8118dc5e-ac0b-4eb8-911a-9661384d8c84   \n",
       "1  ebc46868-c1e5-4e05-8e7d-e95ac4f50ef0  8b99dcc6-0a65-4303-8dac-2348da34f068   \n",
       "2  daf109f3-909c-4200-87d5-ba859a1de46a  0cc330bd-ef67-4fcf-8120-2e87283439db   \n",
       "3  e7b4f3e6-fbba-4786-8357-1f26058848c2  410cb299-2861-4b3b-8bb7-5ee985daac07   \n",
       "4  d71ff0bc-cc87-4d58-ad64-75848f6eb8db  b0595294-305f-4460-91e8-3d3058e4c195   \n",
       "\n",
       "  language    source  \n",
       "0       EN  BACKFILL  \n",
       "1       EN  BACKFILL  \n",
       "2       EN  BACKFILL  \n",
       "3       EN  BACKFILL  \n",
       "4       EN  BACKFILL  "
      ]
     },
     "execution_count": 347,
     "metadata": {},
     "output_type": "execute_result"
    }
   ],
   "source": [
    "print(dedupes['language'].unique())\n",
    "dedupes.head()"
   ]
  },
  {
   "cell_type": "code",
   "execution_count": 368,
   "id": "db44602a-09e5-42e0-910b-ad97ad37ec2e",
   "metadata": {},
   "outputs": [
    {
     "data": {
      "text/plain": [
       "0    {'_index': 'corpus_en_luc', '_op_type': 'delet...\n",
       "1    {'_index': 'corpus_en_luc', '_op_type': 'delet...\n",
       "2    {'_index': 'corpus_en_luc', '_op_type': 'delet...\n",
       "3    {'_index': 'corpus_en_luc', '_op_type': 'delet...\n",
       "4    {'_index': 'corpus_en_luc', '_op_type': 'delet...\n",
       "Name: originalCorpusId, dtype: object"
      ]
     },
     "execution_count": 368,
     "metadata": {},
     "output_type": "execute_result"
    }
   ],
   "source": [
    "# just en so do corpus_en_luc\n",
    "commands = dedupes['originalCorpusId'].apply(lambda x: {'_index': 'corpus_en_luc', '_op_type': 'delete', '_id': x})#{'delete': {'_index': 'corpus_en_luc', '_id': x}})\n",
    "commands.head()"
   ]
  },
  {
   "cell_type": "code",
   "execution_count": 369,
   "id": "0342971f-4b95-4f4a-9950-4aaa8cf8d487",
   "metadata": {},
   "outputs": [],
   "source": [
    "from elasticsearch import Elasticsearch\n",
    "from elasticsearch.helpers import streaming_bulk\n",
    "import tqdm"
   ]
  },
  {
   "cell_type": "code",
   "execution_count": 380,
   "id": "0869d5df-d33c-4add-8cfc-8c557a229a7f",
   "metadata": {},
   "outputs": [],
   "source": [
    "client = Elasticsearch(\n",
    "    corpus_search_endpoint,\n",
    "    timeout=30,\n",
    "    max_retries=10,\n",
    "    retry_on_timeout=True\n",
    ")"
   ]
  },
  {
   "cell_type": "code",
   "execution_count": 381,
   "id": "b0772e64-744c-4a69-96e9-c9e6b6bc4d2e",
   "metadata": {},
   "outputs": [
    {
     "name": "stdout",
     "output_type": "stream",
     "text": [
      "deleting documents...\n"
     ]
    },
    {
     "name": "stderr",
     "output_type": "stream",
     "text": [
      "100%|█████████████████████████████████████| 1849/1849 [04:56<00:00,  6.24docs/s]\n",
      " 81%|█████████████████████████████▏      | 1501/1849 [00:04<00:00, 621.90docs/s]"
     ]
    },
    {
     "name": "stdout",
     "output_type": "stream",
     "text": [
      "deleted 1843 documents\n"
     ]
    }
   ],
   "source": [
    "print(\"deleting documents...\")\n",
    "progress = tqdm.tqdm(unit=\"docs\", total=len(commands))\n",
    "successes = 0\n",
    "errors = []\n",
    "for ok, action in streaming_bulk(\n",
    "    client=client, actions=list(commands),\n",
    "    raise_on_error=False\n",
    "):\n",
    "    progress.update(1)\n",
    "    successes += ok\n",
    "    if not ok:\n",
    "        errors.append(json.dumps(action))\n",
    "\n",
    "print(f\"deleted {successes} documents\")\n"
   ]
  },
  {
   "cell_type": "code",
   "execution_count": null,
   "id": "6d19872b-49f4-44d0-8b4b-c646fb543016",
   "metadata": {},
   "outputs": [],
   "source": []
  }
 ],
 "metadata": {
  "kernelspec": {
   "display_name": "opensearch",
   "language": "python",
   "name": "opensearch"
  },
  "language_info": {
   "codemirror_mode": {
    "name": "ipython",
    "version": 3
   },
   "file_extension": ".py",
   "mimetype": "text/x-python",
   "name": "python",
   "nbconvert_exporter": "python",
   "pygments_lexer": "ipython3",
   "version": "3.11.9"
  }
 },
 "nbformat": 4,
 "nbformat_minor": 5
}
